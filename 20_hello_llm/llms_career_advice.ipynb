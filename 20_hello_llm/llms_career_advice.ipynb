{
 "cells": [
  {
   "cell_type": "markdown",
   "id": "4ad4a42f-de29-4c56-9f33-fcdd456fda13",
   "metadata": {},
   "source": [
    "# 🔍 Hello World with LLMs: Personalized Career Advice\n",
    "\n",
    "Compare outputs from popular LLMs by asking each one to suggest 3 career paths based on a user profile."
   ]
  },
  {
   "cell_type": "markdown",
   "id": "350a7cfe-8d86-49f1-8b9a-b959639993de",
   "metadata": {},
   "source": [
    "## 📂 Setup & Installation"
   ]
  },
  {
   "cell_type": "code",
   "execution_count": null,
   "id": "326f1770-ea0a-4993-8873-bb34daf9fc52",
   "metadata": {
    "tags": []
   },
   "outputs": [],
   "source": [
    "# Install required packages\n",
    "!pip install openai anthropic google-generativeai cohere"
   ]
  },
  {
   "cell_type": "code",
   "execution_count": null,
   "id": "9a514281-ff68-4bfc-85bc-1cae0acc34ec",
   "metadata": {
    "tags": []
   },
   "outputs": [],
   "source": [
    "# import os\n",
    "# import requests\n",
    "from dotenv import load_dotenv\n",
    "\n",
    "# Load environment variables in a file called .env\n",
    "load_dotenv(override=True)"
   ]
  },
  {
   "cell_type": "markdown",
   "id": "f46a826f",
   "metadata": {},
   "source": [
    "## 👤 Define the User Profile"
   ]
  },
  {
   "cell_type": "code",
   "execution_count": null,
   "id": "9d7f4dc6",
   "metadata": {
    "tags": []
   },
   "outputs": [],
   "source": [
    "user_profile = {\n",
    "    \"name\": \"John Doe\",\n",
    "    \"current_role\": \"Full Stack Developer\",\n",
    "    \"experience_years\": 6,\n",
    "    \"skills\": [\"Java\", \"Spring Boot\", \"React\", \"AWS\", \"Microservices\"],\n",
    "    \"goal\": \"career growth and stability\"\n",
    "}\n"
   ]
  },
  {
   "cell_type": "markdown",
   "id": "5fa22c15",
   "metadata": {},
   "source": [
    "## 🧠 Define the Prompt"
   ]
  },
  {
   "cell_type": "code",
   "execution_count": null,
   "id": "6d3c481a",
   "metadata": {
    "tags": []
   },
   "outputs": [],
   "source": [
    "prompt_template = (\n",
    "    f\"Given the following user profile:\\n\"\n",
    "    f\"Name: {user_profile['name']}\\n\"\n",
    "    f\"Current Role: {user_profile['current_role']}\\n\"\n",
    "    f\"Experience: {user_profile['experience_years']} years\\n\"\n",
    "    f\"Skills: {', '.join(user_profile['skills'])}\\n\"\n",
    "    f\"Goal: {user_profile['goal']}\\n\"\n",
    "    \"Suggest 3 career paths this person should consider in 2025 and explain why.\"\n",
    ")\n"
   ]
  },
  {
   "cell_type": "markdown",
   "id": "52f88a0d",
   "metadata": {},
   "source": [
    "## 🔷 OpenAI GPT-4"
   ]
  },
  {
   "cell_type": "code",
   "execution_count": null,
   "id": "6f20c641",
   "metadata": {
    "tags": []
   },
   "outputs": [],
   "source": [
    "import openai\n",
    "\n",
    "openai_api_key = os.getenv('OPENAI_API_KEY')\n",
    "\n",
    "# Check the OpenAI Api key\n",
    "if not openai_api_key:\n",
    "    print(\"No API key was found - please head over to the troubleshooting notebook in this folder to identify & fix!\")\n",
    "elif not openai_api_key.startswith(\"sk-proj-\"):\n",
    "    print(\"An API key was found, but it doesn't start sk-proj-; please check you're using the right key - see troubleshooting notebook\")\n",
    "elif openai_api_key.strip() != openai_api_key:\n",
    "    print(\"An API key was found, but it looks like it might have space or tab characters at the start or end - please remove them - see troubleshooting notebook\")\n",
    "else:\n",
    "    print(\"API key found and looks good!\")\n",
    "\n",
    "\n",
    "def query_openai(prompt):\n",
    "    client = openai.OpenAI(api_key=openai_api_key)\n",
    "    response = client.chat.completions.create(\n",
    "        model=\"gpt-4\",\n",
    "        messages=[\n",
    "            {\"role\": \"system\", \"content\": \"You are a helpful career advisor.\"},\n",
    "            {\"role\": \"user\", \"content\": prompt}\n",
    "        ],\n",
    "        temperature=0.7\n",
    "    )\n",
    "    return response.choices[0].message.content\n",
    "\n",
    "# Run and display response\n",
    "openai_response = query_openai(prompt_template)\n",
    "print(\"🔷 OpenAI GPT-4 Response:\")\n",
    "print(openai_response)\n"
   ]
  },
  {
   "cell_type": "markdown",
   "id": "2cc97f04-0583-4c25-a5e0-836e6393a618",
   "metadata": {},
   "source": [
    "## 🟣 Claude 3 (Anthropic)"
   ]
  },
  {
   "cell_type": "code",
   "execution_count": null,
   "id": "2aea9519-6f8b-43bb-a268-ff30fbfa3b1b",
   "metadata": {
    "tags": []
   },
   "outputs": [],
   "source": [
    "import anthropic\n",
    "\n",
    "claude_api_key = os.getenv(\"ANTHROPIC_API_KEY\")\n",
    "\n",
    "# Check the Claude API key\n",
    "if not claude_api_key:\n",
    "    print(\"No Anthropic (Claude) API key was found — please set your ANTHROPIC_API_KEY environment variable.\")\n",
    "elif not claude_api_key.startswith(\"sk-ant-\"):\n",
    "    print(\"An API key was found, but it doesn't start with 'sk-ant-'; please check that you're using the correct Claude key format.\")\n",
    "elif claude_api_key.strip() != claude_api_key:\n",
    "    print(\"An API key was found, but it appears to have leading/trailing whitespace. Please remove them.\")\n",
    "else:\n",
    "    print(\"Claude API key found and looks good!\")\n",
    "\n",
    "\n",
    "def query_claude(prompt):\n",
    "    client = anthropic.Anthropic(api_key=claude_api_key)\n",
    "    response = client.messages.create(\n",
    "        model=\"claude-sonnet-4-20250514\",\n",
    "        max_tokens=1000,\n",
    "        messages=[{\"role\": \"user\", \"content\": prompt}]\n",
    "    )\n",
    "    return response.content[0].text\n",
    "\n",
    "claude_response = query_claude(prompt_template)\n",
    "print(\"🟣 Claude 3 Response:\")\n",
    "print(claude_response)"
   ]
  },
  {
   "cell_type": "markdown",
   "id": "f8e02c13-5823-4c0f-b3bb-84a25800edf7",
   "metadata": {},
   "source": [
    "## 🟡 Gemini 1.5 Pro (Google)"
   ]
  },
  {
   "cell_type": "code",
   "execution_count": null,
   "id": "d7fa890f-66dc-47b3-a1e1-4958ddecf018",
   "metadata": {
    "tags": []
   },
   "outputs": [],
   "source": [
    "import google.generativeai as genai\n",
    "\n",
    "\n",
    "gemini_api_key = os.getenv(\"GOOGLE_API_KEY\")\n",
    "\n",
    "# Check the Gemini API key\n",
    "if not gemini_api_key:\n",
    "    print(\"No Gemini (Google) API key was found — please set your GOOGLE_API_KEY environment variable.\")\n",
    "elif not gemini_api_key.startswith(\"AIza\"):\n",
    "    print(\"An API key was found, but it doesn't start with 'AIza'; please check that you're using a valid Google API key.\")\n",
    "elif gemini_api_key.strip() != gemini_api_key:\n",
    "    print(\"An API key was found, but it appears to have leading/trailing whitespace. Please remove them.\")\n",
    "else:\n",
    "    print(\"Gemini API key found and looks good!\")\n",
    "\n",
    "# Configure Gemini\n",
    "genai.configure(api_key=gemini_api_key)    \n",
    "\n",
    "def query_gemini(prompt):\n",
    "    model = genai.GenerativeModel(\"gemini-1.5-pro-latest\")\n",
    "    response = model.generate_content(prompt)\n",
    "    return response.text\n",
    "\n",
    "# Run and display response\n",
    "gemini_response = query_gemini(prompt_template)\n",
    "print(\"🟡 Gemini Response:\")\n",
    "print(gemini_response)"
   ]
  },
  {
   "cell_type": "markdown",
   "id": "1cccb96b-6f36-43ff-bc4d-ebe44e79c916",
   "metadata": {},
   "source": [
    "## 🟢 Cohere Command R+"
   ]
  },
  {
   "cell_type": "code",
   "execution_count": null,
   "id": "84f3d65b-d0a9-46a9-ac00-3430f4f9c1b6",
   "metadata": {
    "tags": []
   },
   "outputs": [],
   "source": [
    "import cohere\n",
    "\n",
    "cohere_api_key = os.getenv(\"COHERE_API_KEY\")\n",
    "\n",
    "# Check the Cohere API key\n",
    "if not cohere_api_key:\n",
    "    print(\"No Cohere API key was found — please set your COHERE_API_KEY environment variable.\")\n",
    "elif not cohere_api_key.startswith(\"sk-\"):\n",
    "    print(\"An API key was found, but it doesn't start with 'sk-'; please check that you're using a valid Cohere key.\")\n",
    "elif cohere_api_key.strip() != cohere_api_key:\n",
    "    print(\"An API key was found, but it appears to have leading/trailing whitespace. Please remove them.\")\n",
    "else:\n",
    "    print(\"Cohere API key found and looks good!\")\n",
    "\n",
    "cohere_client = cohere.Client(api_key=cohere_api_key)\n",
    "\n",
    "def query_cohere(prompt):\n",
    "    response = cohere_client.chat(\n",
    "        model=\"command-r-plus\",\n",
    "        message=prompt,\n",
    "        temperature=0.7,\n",
    "        max_tokens=1000\n",
    "    )\n",
    "    return response.text\n",
    "\n",
    "cohere_response = query_cohere(prompt_template)\n",
    "print(\"🟢 Cohere Response:\")\n",
    "print(cohere_response)"
   ]
  }
 ],
 "metadata": {
  "kernelspec": {
   "display_name": "Python 3 (ipykernel)",
   "language": "python",
   "name": "python3"
  },
  "language_info": {
   "codemirror_mode": {
    "name": "ipython",
    "version": 3
   },
   "file_extension": ".py",
   "mimetype": "text/x-python",
   "name": "python",
   "nbconvert_exporter": "python",
   "pygments_lexer": "ipython3",
   "version": "3.12.5"
  }
 },
 "nbformat": 4,
 "nbformat_minor": 5
}
