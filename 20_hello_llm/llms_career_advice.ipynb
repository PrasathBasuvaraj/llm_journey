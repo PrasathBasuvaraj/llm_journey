{
 "cells": [
  {
   "cell_type": "markdown",
   "id": "4ad4a42f-de29-4c56-9f33-fcdd456fda13",
   "metadata": {},
   "source": [
    "# 🔍 Hello World with LLMs: Personalized Career Advice\n",
    "\n",
    "Compare outputs from popular LLMs by asking each one to suggest 3 career paths based on a user profile."
   ]
  },
  {
   "cell_type": "markdown",
   "id": "350a7cfe-8d86-49f1-8b9a-b959639993de",
   "metadata": {},
   "source": [
    "## 📂 Setup & Installation"
   ]
  },
  {
   "cell_type": "code",
   "execution_count": null,
   "id": "326f1770-ea0a-4993-8873-bb34daf9fc52",
   "metadata": {
    "tags": []
   },
   "outputs": [],
   "source": [
    "# Install required packages\n",
    "!pip install openai anthropic google-generativeai cohere"
   ]
  },
  {
   "cell_type": "code",
   "execution_count": null,
   "id": "9a514281-ff68-4bfc-85bc-1cae0acc34ec",
   "metadata": {
    "tags": []
   },
   "outputs": [],
   "source": [
    "import os\n",
    "import requests\n",
    "from dotenv import load_dotenv\n",
    "\n",
    "# os.environ[\"OPENAI_API_KEY\"] = \"your_openai_key\"\n",
    "# os.environ[\"ANTHROPIC_API_KEY\"] = \"your_anthropic_key\"\n",
    "# os.environ[\"GOOGLE_API_KEY\"] = \"your_google_api_key\"\n",
    "# os.environ[\"COHERE_API_KEY\"] = \"your_cohere_api_key\"\n",
    "\n",
    "# Load environment variables in a file called .env\n",
    "\n",
    "load_dotenv(override=True)\n",
    "openai_api_key = os.getenv('OPENAI_API_KEY')\n",
    "\n",
    "# Check the OpenAI Api key\n",
    "\n",
    "if not openai_api_key:\n",
    "    print(\"No API key was found - please head over to the troubleshooting notebook in this folder to identify & fix!\")\n",
    "elif not openai_api_key.startswith(\"sk-proj-\"):\n",
    "    print(\"An API key was found, but it doesn't start sk-proj-; please check you're using the right key - see troubleshooting notebook\")\n",
    "elif openai_api_key.strip() != openai_api_key:\n",
    "    print(\"An API key was found, but it looks like it might have space or tab characters at the start or end - please remove them - see troubleshooting notebook\")\n",
    "else:\n",
    "    print(\"API key found and looks good so far!\")\n"
   ]
  },
  {
   "cell_type": "markdown",
   "id": "f46a826f",
   "metadata": {},
   "source": [
    "## 👤 Define the User Profile"
   ]
  },
  {
   "cell_type": "code",
   "execution_count": 9,
   "id": "9d7f4dc6",
   "metadata": {
    "tags": []
   },
   "outputs": [],
   "source": [
    "user_profile = {\n",
    "    \"name\": \"John Doe\",\n",
    "    \"current_role\": \"Full Stack Developer\",\n",
    "    \"experience_years\": 6,\n",
    "    \"skills\": [\"Java\", \"Spring Boot\", \"React\", \"AWS\", \"Microservices\"],\n",
    "    \"goal\": \"career growth and stability\"\n",
    "}\n"
   ]
  },
  {
   "cell_type": "markdown",
   "id": "5fa22c15",
   "metadata": {},
   "source": [
    "## 🧠 Define the Prompt"
   ]
  },
  {
   "cell_type": "code",
   "execution_count": 10,
   "id": "6d3c481a",
   "metadata": {
    "tags": []
   },
   "outputs": [],
   "source": [
    "prompt_template = (\n",
    "    f\"Given the following user profile:\\n\"\n",
    "    f\"Name: {user_profile['name']}\\n\"\n",
    "    f\"Current Role: {user_profile['current_role']}\\n\"\n",
    "    f\"Experience: {user_profile['experience_years']} years\\n\"\n",
    "    f\"Skills: {', '.join(user_profile['skills'])}\\n\"\n",
    "    f\"Goal: {user_profile['goal']}\\n\"\n",
    "    \"Suggest 3 career paths this person should consider in 2025 and explain why.\"\n",
    ")\n"
   ]
  },
  {
   "cell_type": "markdown",
   "id": "52f88a0d",
   "metadata": {},
   "source": [
    "## 🔷 OpenAI GPT-4"
   ]
  },
  {
   "cell_type": "code",
   "execution_count": 11,
   "id": "6f20c641",
   "metadata": {
    "tags": []
   },
   "outputs": [
    {
     "name": "stdout",
     "output_type": "stream",
     "text": [
      "🔷 OpenAI GPT-4 Response:\n",
      "1. Senior Full Stack Developer: With John's six years of experience as a Full Stack Developer and his knowledge of Java, Spring Boot, React, AWS, Microservices, he is well-prepared to take on a more senior role. As a Senior Full Stack Developer, he will be able to lead project teams, make key decisions about the tech stack, and guide the technical direction of projects. This role offers career growth and stability, as there is a high demand for experienced full-stack developers.\n",
      "\n",
      "2. Solution Architect: As a solution architect, John would be responsible for converting requirements into the architecture and design that ultimately constitute the blueprint for the solution. His experience in AWS and Microservices would be very useful in this role. Solution Architects are in high demand in the technology sector, and it's a role that offers significant career growth opportunities, potentially leading to roles like Chief Technology Officer.\n",
      "\n",
      "3. DevOps Engineer: Given John's experience with AWS and Microservices, a transition into a DevOps role could be a great career progression. This role involves working with developers and the IT staff to oversee the code releases. They are either developers who get interested in deployment and network operations or sysadmins who have a passion for scripting and coding, and move into the development side where they can improve the planning of testing and deployment. This role is becoming increasingly important as companies need to release updates more frequently to stay competitive, therefore offering career stability and growth.\n"
     ]
    }
   ],
   "source": [
    "import openai\n",
    "\n",
    "def query_openai(prompt):\n",
    "    client = openai.OpenAI(api_key=os.getenv(\"OPENAI_API_KEY\"))\n",
    "    response = client.chat.completions.create(\n",
    "        model=\"gpt-4\",\n",
    "        messages=[\n",
    "            {\"role\": \"system\", \"content\": \"You are a helpful career advisor.\"},\n",
    "            {\"role\": \"user\", \"content\": prompt}\n",
    "        ],\n",
    "        temperature=0.7\n",
    "    )\n",
    "    return response.choices[0].message.content\n",
    "\n",
    "# Run and display response\n",
    "openai_response = query_openai(prompt_template)\n",
    "print(\"🔷 OpenAI GPT-4 Response:\")\n",
    "print(openai_response)\n"
   ]
  }
 ],
 "metadata": {
  "kernelspec": {
   "display_name": "Python 3 (ipykernel)",
   "language": "python",
   "name": "python3"
  },
  "language_info": {
   "codemirror_mode": {
    "name": "ipython",
    "version": 3
   },
   "file_extension": ".py",
   "mimetype": "text/x-python",
   "name": "python",
   "nbconvert_exporter": "python",
   "pygments_lexer": "ipython3",
   "version": "3.12.5"
  }
 },
 "nbformat": 4,
 "nbformat_minor": 5
}
