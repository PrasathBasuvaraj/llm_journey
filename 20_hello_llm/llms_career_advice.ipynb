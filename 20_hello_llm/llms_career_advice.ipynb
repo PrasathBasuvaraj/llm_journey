{
 "cells": [
  {
   "cell_type": "markdown",
   "id": "4ad4a42f-de29-4c56-9f33-fcdd456fda13",
   "metadata": {},
   "source": [
    "# 🔍 Hello World with LLMs: Personalized Career Advice\n",
    "\n",
    "Compare outputs from popular LLMs by asking each one to suggest 3 career paths based on a user profile."
   ]
  },
  {
   "cell_type": "markdown",
   "id": "350a7cfe-8d86-49f1-8b9a-b959639993de",
   "metadata": {},
   "source": [
    "## 📂 Setup & Installation"
   ]
  },
  {
   "cell_type": "code",
   "execution_count": 1,
   "id": "326f1770-ea0a-4993-8873-bb34daf9fc52",
   "metadata": {
    "tags": []
   },
   "outputs": [
    {
     "name": "stdout",
     "output_type": "stream",
     "text": [
      "Collecting openai\n",
      "  Using cached openai-1.53.1-py3-none-any.whl (387 kB)\n",
      "Collecting anthropic\n",
      "  Using cached anthropic-0.38.0-py3-none-any.whl (951 kB)\n",
      "\u001b[31mERROR: Could not find a version that satisfies the requirement google-generativeai (from versions: none)\u001b[0m\n",
      "\u001b[31mERROR: No matching distribution found for google-generativeai\u001b[0m\n",
      "\u001b[33mWARNING: You are using pip version 20.1.1; however, version 24.0 is available.\n",
      "You should consider upgrading via the '/Users/prasathbasuvaraj/.pyenv/versions/3.7.3/bin/Python -m pip install --upgrade pip' command.\u001b[0m\n"
     ]
    }
   ],
   "source": [
    "# Install required packages\n",
    "!pip install openai anthropic google-generativeai cohere"
   ]
  },
  {
   "cell_type": "code",
   "execution_count": 2,
   "id": "9a514281-ff68-4bfc-85bc-1cae0acc34ec",
   "metadata": {
    "tags": []
   },
   "outputs": [
    {
     "data": {
      "text/plain": [
       "True"
      ]
     },
     "execution_count": 2,
     "metadata": {},
     "output_type": "execute_result"
    }
   ],
   "source": [
    "import os\n",
    "import requests\n",
    "from dotenv import load_dotenv\n",
    "\n",
    "# os.environ[\"OPENAI_API_KEY\"] = \"your_openai_key\"\n",
    "# os.environ[\"ANTHROPIC_API_KEY\"] = \"your_anthropic_key\"\n",
    "# os.environ[\"GOOGLE_API_KEY\"] = \"your_google_api_key\"\n",
    "# os.environ[\"COHERE_API_KEY\"] = \"your_cohere_api_key\"\n",
    "\n",
    "# Load environment variables in a file called .env\n",
    "\n",
    "load_dotenv(override=True)"
   ]
  },
  {
   "cell_type": "markdown",
   "id": "f46a826f",
   "metadata": {},
   "source": [
    "## 👤 Define the User Profile"
   ]
  },
  {
   "cell_type": "code",
   "execution_count": 3,
   "id": "9d7f4dc6",
   "metadata": {
    "tags": []
   },
   "outputs": [],
   "source": [
    "user_profile = {\n",
    "    \"name\": \"John Doe\",\n",
    "    \"current_role\": \"Full Stack Developer\",\n",
    "    \"experience_years\": 6,\n",
    "    \"skills\": [\"Java\", \"Spring Boot\", \"React\", \"AWS\", \"Microservices\"],\n",
    "    \"goal\": \"career growth and stability\"\n",
    "}\n"
   ]
  },
  {
   "cell_type": "markdown",
   "id": "5fa22c15",
   "metadata": {},
   "source": [
    "## 🧠 Define the Prompt"
   ]
  },
  {
   "cell_type": "code",
   "execution_count": 4,
   "id": "6d3c481a",
   "metadata": {
    "tags": []
   },
   "outputs": [],
   "source": [
    "prompt_template = (\n",
    "    f\"Given the following user profile:\\n\"\n",
    "    f\"Name: {user_profile['name']}\\n\"\n",
    "    f\"Current Role: {user_profile['current_role']}\\n\"\n",
    "    f\"Experience: {user_profile['experience_years']} years\\n\"\n",
    "    f\"Skills: {', '.join(user_profile['skills'])}\\n\"\n",
    "    f\"Goal: {user_profile['goal']}\\n\"\n",
    "    \"Suggest 3 career paths this person should consider in 2025 and explain why.\"\n",
    ")\n"
   ]
  },
  {
   "cell_type": "markdown",
   "id": "52f88a0d",
   "metadata": {},
   "source": [
    "## 🔷 OpenAI GPT-4"
   ]
  },
  {
   "cell_type": "code",
   "execution_count": 5,
   "id": "6f20c641",
   "metadata": {
    "tags": []
   },
   "outputs": [
    {
     "name": "stdout",
     "output_type": "stream",
     "text": [
      "API key found and looks good!\n",
      "🔷 OpenAI GPT-4 Response:\n",
      "1. Senior Full Stack Developer: With 6 years of experience in full-stack development, John has gained extensive knowledge and expertise in key technologies such as Java, Spring Boot, React, and AWS. The role of a Senior Full Stack Developer would allow him to leverage these skills and also provide him with the opportunity to lead projects, mentor junior developers, and make important decisions related to project architecture and technology stack. This role would also offer career growth and stability, as Senior Developers are always high in demand.\n",
      "\n",
      "2. Cloud Architect: Given John's experience with AWS and Microservices, a career as a Cloud Architect could be a natural progression. This role would involve designing and managing an organization's cloud computing architecture, which includes everything from planning to implementation and maintenance. As businesses continue to migrate their operations to the cloud, the demand for skilled Cloud Architects is expected to grow, providing a stable and rewarding career path.\n",
      "\n",
      "3. IT Project Manager: If John is interested in taking on greater responsibilities and moving into a leadership role, then a career as an IT Project Manager could be the right fit. His extensive technical background would be invaluable in overseeing software development projects, managing teams, coordinating with stakeholders, and ensuring that deliverables are completed on time and within budget. This role offers great career stability and advancement opportunities. Furthermore, the skills he has acquired over his years of experience in full-stack development would be highly beneficial in this role.\n"
     ]
    }
   ],
   "source": [
    "import openai\n",
    "\n",
    "openai_api_key = os.getenv('OPENAI_API_KEY')\n",
    "\n",
    "# Check the OpenAI Api key\n",
    "if not openai_api_key:\n",
    "    print(\"No API key was found - please head over to the troubleshooting notebook in this folder to identify & fix!\")\n",
    "elif not openai_api_key.startswith(\"sk-proj-\"):\n",
    "    print(\"An API key was found, but it doesn't start sk-proj-; please check you're using the right key - see troubleshooting notebook\")\n",
    "elif openai_api_key.strip() != openai_api_key:\n",
    "    print(\"An API key was found, but it looks like it might have space or tab characters at the start or end - please remove them - see troubleshooting notebook\")\n",
    "else:\n",
    "    print(\"API key found and looks good!\")\n",
    "\n",
    "\n",
    "def query_openai(prompt):\n",
    "    client = openai.OpenAI(api_key=openai_api_key)\n",
    "    response = client.chat.completions.create(\n",
    "        model=\"gpt-4\",\n",
    "        messages=[\n",
    "            {\"role\": \"system\", \"content\": \"You are a helpful career advisor.\"},\n",
    "            {\"role\": \"user\", \"content\": prompt}\n",
    "        ],\n",
    "        temperature=0.7\n",
    "    )\n",
    "    return response.choices[0].message.content\n",
    "\n",
    "# Run and display response\n",
    "openai_response = query_openai(prompt_template)\n",
    "print(\"🔷 OpenAI GPT-4 Response:\")\n",
    "print(openai_response)\n"
   ]
  },
  {
   "cell_type": "markdown",
   "id": "2cc97f04-0583-4c25-a5e0-836e6393a618",
   "metadata": {},
   "source": [
    "## 🟣 Claude 3 (Anthropic)"
   ]
  },
  {
   "cell_type": "code",
   "execution_count": 6,
   "id": "2aea9519-6f8b-43bb-a268-ff30fbfa3b1b",
   "metadata": {
    "tags": []
   },
   "outputs": [
    {
     "name": "stdout",
     "output_type": "stream",
     "text": [
      "Claude API key found and looks good!\n",
      "🟣 Claude 3 Response:\n",
      "Based on John Doe's profile, here are 3 strategic career paths to consider for 2025:\n",
      "\n",
      "## 1. **Senior Software Architect**\n",
      "**Why this fits:** With 6 years of experience and a strong foundation in microservices, Java, and AWS, John is well-positioned for architectural roles.\n",
      "\n",
      "**Next steps:**\n",
      "- Deepen knowledge in system design patterns and distributed architectures\n",
      "- Gain experience with containerization (Docker, Kubernetes) \n",
      "- Lead technical design decisions on current projects\n",
      "- Pursue AWS Solutions Architect certification\n",
      "\n",
      "**Career benefits:** High demand, excellent salary growth, and provides the technical leadership path John likely craves while leveraging his existing expertise.\n",
      "\n",
      "## 2. **Cloud Solutions Engineer/DevOps Lead**\n",
      "**Why this fits:** His AWS and microservices background positions him perfectly for the rapidly growing cloud infrastructure space.\n",
      "\n",
      "**Next steps:**\n",
      "- Expand AWS certifications (DevOps Professional, Solutions Architect)\n",
      "- Master Infrastructure as Code (Terraform, CloudFormation)\n",
      "- Learn CI/CD pipeline optimization and monitoring tools\n",
      "- Gain experience with multi-cloud environments\n",
      "\n",
      "**Career benefits:** Extremely stable field with continuous growth, high compensation, and aligns with digital transformation trends across all industries.\n",
      "\n",
      "## 3. **Technical Product Manager**\n",
      "**Why this fits:** His full-stack perspective gives him unique insight into both user experience and technical feasibility - crucial for product decisions.\n",
      "\n",
      "**Next steps:**\n",
      "- Develop product management skills (user research, roadmap planning)\n",
      "- Learn data analysis and business metrics\n",
      "- Practice stakeholder communication and project management\n",
      "- Consider product management courses or certifications\n",
      "\n",
      "**Career benefits:** Offers excellent career growth potential, combines technical knowledge with business strategy, and provides a path toward executive leadership while maintaining technical relevance.\n",
      "\n",
      "**Recommendation:** I'd suggest exploring the Software Architect path first, as it builds most directly on John's current expertise while offering immediate advancement opportunities.\n"
     ]
    }
   ],
   "source": [
    "import anthropic\n",
    "\n",
    "claude_api_key = os.getenv(\"ANTHROPIC_API_KEY\")\n",
    "\n",
    "# Check the Claude API key\n",
    "if not claude_api_key:\n",
    "    print(\"No Anthropic (Claude) API key was found — please set your ANTHROPIC_API_KEY environment variable.\")\n",
    "elif not claude_api_key.startswith(\"sk-ant-\"):\n",
    "    print(\"An API key was found, but it doesn't start with 'sk-ant-'; please check that you're using the correct Claude key format.\")\n",
    "elif claude_api_key.strip() != claude_api_key:\n",
    "    print(\"An API key was found, but it appears to have leading/trailing whitespace. Please remove them.\")\n",
    "else:\n",
    "    print(\"Claude API key found and looks good!\")\n",
    "\n",
    "\n",
    "def query_claude(prompt):\n",
    "    client = anthropic.Anthropic(api_key=claude_api_key)\n",
    "    response = client.messages.create(\n",
    "        model=\"claude-sonnet-4-20250514\",\n",
    "        max_tokens=1000,\n",
    "        messages=[{\"role\": \"user\", \"content\": prompt}]\n",
    "    )\n",
    "    return response.content[0].text\n",
    "\n",
    "claude_response = query_claude(prompt_template)\n",
    "print(\"🟣 Claude 3 Response:\")\n",
    "print(claude_response)"
   ]
  },
  {
   "cell_type": "markdown",
   "id": "f8e02c13-5823-4c0f-b3bb-84a25800edf7",
   "metadata": {},
   "source": [
    "## 🟡 Gemini 1.5 Pro (Google)"
   ]
  },
  {
   "cell_type": "code",
   "execution_count": 10,
   "id": "d7fa890f-66dc-47b3-a1e1-4958ddecf018",
   "metadata": {
    "tags": []
   },
   "outputs": [
    {
     "name": "stdout",
     "output_type": "stream",
     "text": [
      "Gemini API key found and looks good!\n",
      "🟡 Gemini Response:\n",
      "Here are 3 career paths John Doe should consider in 2025, given his profile:\n",
      "\n",
      "**1. Solutions Architect:**\n",
      "\n",
      "* **Why:**  John's experience with Java, Spring Boot, React, AWS, and Microservices makes him a strong candidate to transition into a Solutions Architect role.  He already understands both front-end and back-end development and has cloud experience, crucial components for designing and implementing comprehensive technical solutions.  This role offers increased responsibility, broader technical oversight, and generally higher compensation, aligning with his career growth goals.  Architecture roles tend to be more stable, especially within larger organizations, satisfying his stability goal.\n",
      "\n",
      "* **Path:** John can start by taking on more architectural responsibilities in his current role, like designing system components or leading technical discussions.  He should pursue relevant certifications (e.g., AWS Certified Solutions Architect) and expand his knowledge of architectural patterns and best practices.  Networking with architects and attending architecture-focused conferences will also be beneficial.\n",
      "\n",
      "**2. Staff/Principal Engineer:**\n",
      "\n",
      "* **Why:** With 6 years of experience, John is likely approaching senior engineer level.  Continuing along this path towards a Staff or Principal Engineer role allows him to deepen his technical expertise within the full-stack domain.  This path emphasizes technical leadership and mentorship, influencing the technical direction of teams and projects.  These roles offer significant career growth and are typically well-compensated.  The deep technical expertise also provides a level of career stability, as skilled senior engineers are always in demand.\n",
      "\n",
      "* **Path:** John should focus on becoming a recognized expert in one or more of his current skills, potentially specializing in a niche area within backend development or cloud technologies.  Contributing to open-source projects, publishing technical articles, and actively participating in developer communities will enhance his visibility and reputation. He should also seek opportunities to mentor junior developers and lead technical initiatives.\n",
      "\n",
      "**3. Engineering Manager:**\n",
      "\n",
      "* **Why:** If John discovers he enjoys mentoring and leading teams, transitioning into an Engineering Manager role could be a good fit. His full-stack experience gives him a broad understanding of the development lifecycle, enabling him to effectively manage and support a development team. While still technical, this path leans more towards leadership and people management.  Engineering management offers career growth in a different direction and can be a stable career choice.\n",
      "\n",
      "* **Path:** John should seek opportunities to lead small projects or teams. He can also take on mentoring roles or volunteer for organizational tasks.  Developing his communication, conflict resolution, and project management skills will be crucial for success.  He might consider pursuing management-focused training or certifications.  Shadowing existing engineering managers can also provide valuable insights.\n",
      "\n",
      "\n",
      "It's important for John to consider his personal preferences and strengths when choosing a career path.  He may find that a combination of these paths, such as becoming a technical lead architect or a manager with a deep technical specialization, aligns best with his long-term career goals.\n",
      "\n"
     ]
    }
   ],
   "source": [
    "import google.generativeai as genai\n",
    "\n",
    "\n",
    "gemini_api_key = os.getenv(\"GOOGLE_API_KEY\")\n",
    "\n",
    "# Check the Gemini API key\n",
    "if not gemini_api_key:\n",
    "    print(\"No Gemini (Google) API key was found — please set your GOOGLE_API_KEY environment variable.\")\n",
    "elif not gemini_api_key.startswith(\"AIza\"):\n",
    "    print(\"An API key was found, but it doesn't start with 'AIza'; please check that you're using a valid Google API key.\")\n",
    "elif gemini_api_key.strip() != gemini_api_key:\n",
    "    print(\"An API key was found, but it appears to have leading/trailing whitespace. Please remove them.\")\n",
    "else:\n",
    "    print(\"Gemini API key found and looks good!\")\n",
    "\n",
    "# Configure Gemini\n",
    "genai.configure(api_key=gemini_api_key)    \n",
    "\n",
    "def query_gemini(prompt):\n",
    "    model = genai.GenerativeModel(\"gemini-1.5-pro-latest\")\n",
    "    response = model.generate_content(prompt)\n",
    "    return response.text\n",
    "\n",
    "# Run and display response\n",
    "gemini_response = query_gemini(prompt_template)\n",
    "print(\"🟡 Gemini Response:\")\n",
    "print(gemini_response)"
   ]
  }
 ],
 "metadata": {
  "kernelspec": {
   "display_name": "Python 3 (ipykernel)",
   "language": "python",
   "name": "python3"
  },
  "language_info": {
   "codemirror_mode": {
    "name": "ipython",
    "version": 3
   },
   "file_extension": ".py",
   "mimetype": "text/x-python",
   "name": "python",
   "nbconvert_exporter": "python",
   "pygments_lexer": "ipython3",
   "version": "3.12.5"
  }
 },
 "nbformat": 4,
 "nbformat_minor": 5
}
