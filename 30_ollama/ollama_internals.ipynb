{
 "cells": [
  {
   "cell_type": "markdown",
   "id": "b51a308e-1026-4ae7-a3ef-3df74ec9438e",
   "metadata": {},
   "source": [
    "# Ollama \n",
    "\n",
    "## Ollama internals\n",
    "\n",
    "\n",
    "When ollama is running visit http://localhost:11434/\n",
    "\n"
   ]
  },
  {
   "cell_type": "markdown",
   "id": "d9e57877-412f-4d54-a062-0901c335e24f",
   "metadata": {},
   "source": [
    "## Connecting to ollama"
   ]
  },
  {
   "cell_type": "code",
   "execution_count": null,
   "id": "5f9a09ab-dc3e-4dff-b122-338f0ace3594",
   "metadata": {
    "tags": []
   },
   "outputs": [],
   "source": [
    "# imports\n",
    "\n",
    "import requests\n",
    "from bs4 import BeautifulSoup\n",
    "from IPython.display import Markdown, display\n",
    "\n",
    "# Constants\n",
    "\n",
    "OLLAMA_API = \"http://localhost:11434/api/chat\"\n",
    "HEADERS = {\"Content-Type\": \"application/json\"}\n",
    "MODEL = \"llama3.2\"\n",
    "\n",
    "\n",
    "# Create a messages list using the same format that we used for OpenAI\n",
    "\n",
    "messages = [\n",
    "    {\"role\": \"user\", \"content\": \"Describe some ways to grow in career\"}\n",
    "]\n",
    "\n",
    "payload = {\n",
    "        \"model\": MODEL,\n",
    "        \"messages\": messages,\n",
    "        \"stream\": False\n",
    "    }\n",
    "\n",
    "# Let's just make sure the model is loaded\n",
    "\n",
    "!ollama pull llama3.2\n"
   ]
  },
  {
   "cell_type": "code",
   "execution_count": null,
   "id": "ae8c87d0-8b17-4275-ba00-116be492a53d",
   "metadata": {
    "tags": []
   },
   "outputs": [],
   "source": [
    "\n",
    "# If this doesn't work for any reason, try the 2 versions in the following cells\n",
    "# And double check the instructions in the 'Recap on installation of Ollama' at the top of this lab\n",
    "# And if none of that works - contact me!\n",
    "\n",
    "response = requests.post(OLLAMA_API, json=payload, headers=HEADERS)\n",
    "print(response.json()['message']['content'])"
   ]
  },
  {
   "cell_type": "markdown",
   "id": "c4bd616c-8c97-4b9b-b00c-2ca088a1dd7c",
   "metadata": {},
   "source": [
    "## Connecting to ollama using Ollama Package"
   ]
  },
  {
   "cell_type": "code",
   "execution_count": null,
   "id": "13407cf1-06db-4f75-be1f-18ba317d65cf",
   "metadata": {
    "tags": []
   },
   "outputs": [],
   "source": [
    "import ollama\n",
    "\n",
    "response = ollama.chat(model=MODEL, messages=messages)\n",
    "print(response['message']['content'])"
   ]
  }
 ],
 "metadata": {
  "kernelspec": {
   "display_name": "Python 3 (ipykernel)",
   "language": "python",
   "name": "python3"
  },
  "language_info": {
   "codemirror_mode": {
    "name": "ipython",
    "version": 3
   },
   "file_extension": ".py",
   "mimetype": "text/x-python",
   "name": "python",
   "nbconvert_exporter": "python",
   "pygments_lexer": "ipython3",
   "version": "3.12.5"
  }
 },
 "nbformat": 4,
 "nbformat_minor": 5
}
